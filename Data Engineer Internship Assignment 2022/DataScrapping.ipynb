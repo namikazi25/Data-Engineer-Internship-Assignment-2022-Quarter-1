{
 "cells": [
  {
   "cell_type": "code",
   "execution_count": 21,
   "id": "c2e7d387",
   "metadata": {},
   "outputs": [
    {
     "name": "stdout",
     "output_type": "stream",
     "text": [
      "Requirement already satisfied: googlemaps in c:\\users\\share\\appdata\\local\\programs\\python\\python310\\lib\\site-packages (4.5.3)\n",
      "Requirement already satisfied: requests<3.0,>=2.20.0 in c:\\users\\share\\appdata\\local\\programs\\python\\python310\\lib\\site-packages (from googlemaps) (2.27.1)\n",
      "Requirement already satisfied: idna<4,>=2.5 in c:\\users\\share\\appdata\\local\\programs\\python\\python310\\lib\\site-packages (from requests<3.0,>=2.20.0->googlemaps) (3.3)\n",
      "Requirement already satisfied: urllib3<1.27,>=1.21.1 in c:\\users\\share\\appdata\\local\\programs\\python\\python310\\lib\\site-packages (from requests<3.0,>=2.20.0->googlemaps) (1.26.8)\n",
      "Requirement already satisfied: certifi>=2017.4.17 in c:\\users\\share\\appdata\\local\\programs\\python\\python310\\lib\\site-packages (from requests<3.0,>=2.20.0->googlemaps) (2021.10.8)\n",
      "Requirement already satisfied: charset-normalizer~=2.0.0 in c:\\users\\share\\appdata\\local\\programs\\python\\python310\\lib\\site-packages (from requests<3.0,>=2.20.0->googlemaps) (2.0.10)\n",
      "Note: you may need to restart the kernel to use updated packages.\n"
     ]
    }
   ],
   "source": [
    "pip install googlemaps"
   ]
  },
  {
   "cell_type": "code",
   "execution_count": 22,
   "id": "1ef26ce8",
   "metadata": {},
   "outputs": [
    {
     "name": "stdout",
     "output_type": "stream",
     "text": [
      "Requirement already satisfied: prettyprint in c:\\users\\share\\appdata\\local\\programs\\python\\python310\\lib\\site-packages (0.1.5)\n",
      "Note: you may need to restart the kernel to use updated packages.\n"
     ]
    }
   ],
   "source": [
    "pip install prettyprint"
   ]
  },
  {
   "cell_type": "code",
   "execution_count": 23,
   "id": "93d1ef6d",
   "metadata": {},
   "outputs": [],
   "source": [
    "import googlemaps\n",
    "import prettyprint\n",
    "import time"
   ]
  },
  {
   "cell_type": "code",
   "execution_count": 30,
   "id": "300316ad",
   "metadata": {},
   "outputs": [],
   "source": [
    "f = open('api.txt', 'r')\n",
    "apikey = f.readline()\n",
    "# print(apikey)\n",
    "#Defining the Client\n",
    "gmaps = googlemaps.Client(key = apikey)\n",
    "\n"
   ]
  },
  {
   "cell_type": "code",
   "execution_count": 25,
   "id": "b25ad262",
   "metadata": {},
   "outputs": [],
   "source": [
    "#Defining our Search\n",
    "import requests\n",
    "\n",
    "url = \"https://maps.googleapis.com/maps/api/place/textsearch/json?query=restaurants%20in%20Bangladesh&key=API_KEY\"\n",
    "\n",
    "payload={}\n",
    "headers = {}\n",
    "\n",
    "response = requests.request(\"GET\", url, headers=headers, data=payload)\n",
    "\n",
    "# print(response.text)"
   ]
  },
  {
   "cell_type": "code",
   "execution_count": 102,
   "id": "dec56205",
   "metadata": {},
   "outputs": [],
   "source": [
    "response_json = response.json()\n",
    "# print(response_json[\"results\"])\n",
    "restaurant_data2 = response_json[\"results\"]\n",
    "# print(restaurant_data2[0].get('geometry').get('location'))\n",
    "\n",
    "location = {}\n",
    "j = 0\n",
    "for i in restaurant_data2:\n",
    "    location[j] = restaurant_data2[j].get('geometry').get('location')\n",
    "    j=j+1\n",
    "    \n",
    "# print(location)"
   ]
  },
  {
   "cell_type": "code",
   "execution_count": 104,
   "id": "d72373e4",
   "metadata": {
    "scrolled": true
   },
   "outputs": [],
   "source": [
    "import json\n",
    "import csv\n",
    "import pandas as pd\n",
    "restaurant_data = response_json[\"results\"]\n",
    "df3 = pd.DataFrame.from_dict(location, orient='index').T\n",
    "# print(df3.head())\n",
    "df = pd.DataFrame.from_dict(restaurant_data)\n",
    "# print(df.info())"
   ]
  },
  {
   "cell_type": "code",
   "execution_count": 93,
   "id": "ff9f5fbf",
   "metadata": {},
   "outputs": [
    {
     "name": "stdout",
     "output_type": "stream",
     "text": [
      "         lat        lng\n",
      "0  23.778819  90.380208\n",
      "1  23.749809  90.368645\n",
      "2  23.751722  90.377679\n",
      "3  23.749739  90.368675\n",
      "4  23.746263  90.371584\n"
     ]
    }
   ],
   "source": [
    "df5 = df3.T\n",
    "print(df5.head())"
   ]
  },
  {
   "cell_type": "code",
   "execution_count": 94,
   "id": "d2d84d8a",
   "metadata": {},
   "outputs": [
    {
     "data": {
      "text/html": [
       "<div>\n",
       "<style scoped>\n",
       "    .dataframe tbody tr th:only-of-type {\n",
       "        vertical-align: middle;\n",
       "    }\n",
       "\n",
       "    .dataframe tbody tr th {\n",
       "        vertical-align: top;\n",
       "    }\n",
       "\n",
       "    .dataframe thead th {\n",
       "        text-align: right;\n",
       "    }\n",
       "</style>\n",
       "<table border=\"1\" class=\"dataframe\">\n",
       "  <thead>\n",
       "    <tr style=\"text-align: right;\">\n",
       "      <th></th>\n",
       "      <th>name</th>\n",
       "      <th>rating</th>\n",
       "      <th>user_ratings_total</th>\n",
       "      <th>price_level</th>\n",
       "    </tr>\n",
       "  </thead>\n",
       "  <tbody>\n",
       "    <tr>\n",
       "      <th>0</th>\n",
       "      <td>Zaytun Restaurant</td>\n",
       "      <td>3.9</td>\n",
       "      <td>975</td>\n",
       "      <td>2.0</td>\n",
       "    </tr>\n",
       "    <tr>\n",
       "      <th>1</th>\n",
       "      <td>bbq Bangladesh</td>\n",
       "      <td>4.2</td>\n",
       "      <td>1762</td>\n",
       "      <td>2.0</td>\n",
       "    </tr>\n",
       "    <tr>\n",
       "      <th>2</th>\n",
       "      <td>Santoor Restaurant</td>\n",
       "      <td>4.1</td>\n",
       "      <td>1643</td>\n",
       "      <td>2.0</td>\n",
       "    </tr>\n",
       "    <tr>\n",
       "      <th>3</th>\n",
       "      <td>Biye Bari Restaurant</td>\n",
       "      <td>3.8</td>\n",
       "      <td>1637</td>\n",
       "      <td>2.0</td>\n",
       "    </tr>\n",
       "    <tr>\n",
       "      <th>4</th>\n",
       "      <td>Garlic 'n Ginger</td>\n",
       "      <td>4.3</td>\n",
       "      <td>1912</td>\n",
       "      <td>3.0</td>\n",
       "    </tr>\n",
       "  </tbody>\n",
       "</table>\n",
       "</div>"
      ],
      "text/plain": [
       "                   name  rating  user_ratings_total  price_level\n",
       "0     Zaytun Restaurant     3.9                 975          2.0\n",
       "1        bbq Bangladesh     4.2                1762          2.0\n",
       "2    Santoor Restaurant     4.1                1643          2.0\n",
       "3  Biye Bari Restaurant     3.8                1637          2.0\n",
       "4      Garlic 'n Ginger     4.3                1912          3.0"
      ]
     },
     "execution_count": 94,
     "metadata": {},
     "output_type": "execute_result"
    }
   ],
   "source": [
    "df2 = df.loc[:,['name','rating','user_ratings_total','price_level']]\n",
    "df2.head()\n",
    "# df2.to_csv (r'.\\restaurant_data.csv', index = None, header=True)"
   ]
  },
  {
   "cell_type": "code",
   "execution_count": 105,
   "id": "f5be14c1",
   "metadata": {
    "scrolled": true
   },
   "outputs": [
    {
     "name": "stdout",
     "output_type": "stream",
     "text": [
      "<class 'pandas.core.frame.DataFrame'>\n",
      "RangeIndex: 20 entries, 0 to 19\n",
      "Data columns (total 6 columns):\n",
      " #   Column              Non-Null Count  Dtype  \n",
      "---  ------              --------------  -----  \n",
      " 0   name                20 non-null     object \n",
      " 1   rating              20 non-null     float64\n",
      " 2   user_ratings_total  20 non-null     int64  \n",
      " 3   price_level         14 non-null     float64\n",
      " 4   lat                 20 non-null     float64\n",
      " 5   lng                 20 non-null     float64\n",
      "dtypes: float64(4), int64(1), object(1)\n",
      "memory usage: 1.1+ KB\n",
      "None\n"
     ]
    }
   ],
   "source": [
    "stack = pd.concat([df2, df5], axis=1)\n",
    "print(stack.info())"
   ]
  },
  {
   "cell_type": "code",
   "execution_count": 106,
   "id": "ffe2c433",
   "metadata": {},
   "outputs": [],
   "source": [
    "stack.to_csv (r'.\\restaurant_data.csv', index = 0, header=True)"
   ]
  }
 ],
 "metadata": {
  "kernelspec": {
   "display_name": "Python 3 (ipykernel)",
   "language": "python",
   "name": "python3"
  },
  "language_info": {
   "codemirror_mode": {
    "name": "ipython",
    "version": 3
   },
   "file_extension": ".py",
   "mimetype": "text/x-python",
   "name": "python",
   "nbconvert_exporter": "python",
   "pygments_lexer": "ipython3",
   "version": "3.10.0"
  }
 },
 "nbformat": 4,
 "nbformat_minor": 5
}
