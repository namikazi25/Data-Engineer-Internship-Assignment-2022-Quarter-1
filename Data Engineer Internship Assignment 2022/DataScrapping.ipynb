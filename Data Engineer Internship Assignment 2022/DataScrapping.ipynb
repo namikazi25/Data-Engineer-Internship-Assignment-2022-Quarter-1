{
 "cells": [
  {
   "cell_type": "code",
   "execution_count": 21,
   "id": "c2e7d387",
   "metadata": {},
   "outputs": [
    {
     "name": "stdout",
     "output_type": "stream",
     "text": [
      "Requirement already satisfied: googlemaps in c:\\users\\share\\appdata\\local\\programs\\python\\python310\\lib\\site-packages (4.5.3)\n",
      "Requirement already satisfied: requests<3.0,>=2.20.0 in c:\\users\\share\\appdata\\local\\programs\\python\\python310\\lib\\site-packages (from googlemaps) (2.27.1)\n",
      "Requirement already satisfied: idna<4,>=2.5 in c:\\users\\share\\appdata\\local\\programs\\python\\python310\\lib\\site-packages (from requests<3.0,>=2.20.0->googlemaps) (3.3)\n",
      "Requirement already satisfied: urllib3<1.27,>=1.21.1 in c:\\users\\share\\appdata\\local\\programs\\python\\python310\\lib\\site-packages (from requests<3.0,>=2.20.0->googlemaps) (1.26.8)\n",
      "Requirement already satisfied: certifi>=2017.4.17 in c:\\users\\share\\appdata\\local\\programs\\python\\python310\\lib\\site-packages (from requests<3.0,>=2.20.0->googlemaps) (2021.10.8)\n",
      "Requirement already satisfied: charset-normalizer~=2.0.0 in c:\\users\\share\\appdata\\local\\programs\\python\\python310\\lib\\site-packages (from requests<3.0,>=2.20.0->googlemaps) (2.0.10)\n",
      "Note: you may need to restart the kernel to use updated packages.\n"
     ]
    }
   ],
   "source": [
    "pip install googlemaps"
   ]
  },
  {
   "cell_type": "code",
   "execution_count": 22,
   "id": "1ef26ce8",
   "metadata": {},
   "outputs": [
    {
     "name": "stdout",
     "output_type": "stream",
     "text": [
      "Requirement already satisfied: prettyprint in c:\\users\\share\\appdata\\local\\programs\\python\\python310\\lib\\site-packages (0.1.5)\n",
      "Note: you may need to restart the kernel to use updated packages.\n"
     ]
    }
   ],
   "source": [
    "pip install prettyprint"
   ]
  },
  {
   "cell_type": "code",
   "execution_count": 23,
   "id": "93d1ef6d",
   "metadata": {},
   "outputs": [],
   "source": [
    "import googlemaps\n",
    "import prettyprint\n",
    "import time"
   ]
  },
  {
   "cell_type": "code",
   "execution_count": 30,
   "id": "300316ad",
   "metadata": {},
   "outputs": [],
   "source": [
    "f = open('api.txt', 'r')\n",
    "apikey = f.readline()\n",
    "# print(apikey)\n",
    "#Defining the Client\n",
    "gmaps = googlemaps.Client(key = apikey)\n",
    "\n"
   ]
  },
  {
   "cell_type": "code",
   "execution_count": 25,
   "id": "b25ad262",
   "metadata": {},
   "outputs": [],
   "source": [
    "#Defining our Search\n",
    "import requests\n",
    "\n",
    "url = \"https://maps.googleapis.com/maps/api/place/textsearch/json?query=restaurants%20in%20Bangladesh&key=API_KEY\"\n",
    "\n",
    "payload={}\n",
    "headers = {}\n",
    "\n",
    "response = requests.request(\"GET\", url, headers=headers, data=payload)\n",
    "\n",
    "# print(response.text)"
   ]
  },
  {
   "cell_type": "code",
   "execution_count": 26,
   "id": "dec56205",
   "metadata": {},
   "outputs": [],
   "source": [
    "response_json = response.json()\n",
    "# print(response_json[\"results\"])"
   ]
  },
  {
   "cell_type": "code",
   "execution_count": 27,
   "id": "d72373e4",
   "metadata": {
    "scrolled": true
   },
   "outputs": [
    {
     "name": "stdout",
     "output_type": "stream",
     "text": [
      "<class 'pandas.core.frame.DataFrame'>\n",
      "RangeIndex: 20 entries, 0 to 19\n",
      "Data columns (total 16 columns):\n",
      " #   Column                 Non-Null Count  Dtype  \n",
      "---  ------                 --------------  -----  \n",
      " 0   business_status        20 non-null     object \n",
      " 1   formatted_address      20 non-null     object \n",
      " 2   geometry               20 non-null     object \n",
      " 3   icon                   20 non-null     object \n",
      " 4   icon_background_color  20 non-null     object \n",
      " 5   icon_mask_base_uri     20 non-null     object \n",
      " 6   name                   20 non-null     object \n",
      " 7   opening_hours          20 non-null     object \n",
      " 8   photos                 19 non-null     object \n",
      " 9   place_id               20 non-null     object \n",
      " 10  plus_code              20 non-null     object \n",
      " 11  price_level            14 non-null     float64\n",
      " 12  rating                 20 non-null     float64\n",
      " 13  reference              20 non-null     object \n",
      " 14  types                  20 non-null     object \n",
      " 15  user_ratings_total     20 non-null     int64  \n",
      "dtypes: float64(2), int64(1), object(13)\n",
      "memory usage: 2.6+ KB\n",
      "None\n"
     ]
    }
   ],
   "source": [
    "import json\n",
    "import csv\n",
    "import pandas as pd\n",
    "restaurant_data = response_json[\"results\"]\n",
    "df = pd.DataFrame.from_dict(restaurant_data)\n",
    "print(df.info())"
   ]
  },
  {
   "cell_type": "code",
   "execution_count": 28,
   "id": "d2d84d8a",
   "metadata": {},
   "outputs": [],
   "source": [
    "df2 = df.loc[:,['name','geometry','rating','user_ratings_total','price_level']]\n",
    "\n",
    "df2.to_csv (r'.\\restaurant_data.csv', index = None, header=True)"
   ]
  },
  {
   "cell_type": "code",
   "execution_count": 29,
   "id": "f5be14c1",
   "metadata": {},
   "outputs": [
    {
     "name": "stdout",
     "output_type": "stream",
     "text": [
      "                                       name  \\\n",
      "0                         Zaytun Restaurant   \n",
      "1                            bbq Bangladesh   \n",
      "2                        Santoor Restaurant   \n",
      "3                      Biye Bari Restaurant   \n",
      "4                          Garlic 'n Ginger   \n",
      "5                            Bar B Q Tonite   \n",
      "6                        Xindian Restaurant   \n",
      "7                            Family Kitchen   \n",
      "8   Khana's Mohammadpur - খানাস মোহাম্মদপুর   \n",
      "9                       Cookers7 Restaurant   \n",
      "10                  Star Kebab & Restaurant   \n",
      "11                                      BAO   \n",
      "12       A La Greek - Mediterranean Cuisine   \n",
      "13                       Star Hotel & Kabab   \n",
      "14                                  Izakaya   \n",
      "15                                    Tarka   \n",
      "16                       Bukhara Restaurant   \n",
      "17                               Dhaka Food   \n",
      "18            HEXA Dine - Restaurant & Café   \n",
      "19                       Aharika Restaurant   \n",
      "\n",
      "                                             geometry  rating  \\\n",
      "0   {'location': {'lat': 23.778819, 'lng': 90.3802...     3.9   \n",
      "1   {'location': {'lat': 23.7498091, 'lng': 90.368...     4.2   \n",
      "2   {'location': {'lat': 23.7517218, 'lng': 90.377...     4.1   \n",
      "3   {'location': {'lat': 23.7497393, 'lng': 90.368...     3.8   \n",
      "4   {'location': {'lat': 23.7462631, 'lng': 90.371...     4.3   \n",
      "5   {'location': {'lat': 23.753617, 'lng': 90.3707...     4.3   \n",
      "6   {'location': {'lat': 23.7518866, 'lng': 90.368...     4.0   \n",
      "7   {'location': {'lat': 23.7549026, 'lng': 90.412...     5.0   \n",
      "8   {'location': {'lat': 23.7622672, 'lng': 90.361...     4.3   \n",
      "9   {'location': {'lat': 23.7509142, 'lng': 90.395...     4.3   \n",
      "10  {'location': {'lat': 23.7932198, 'lng': 90.402...     4.2   \n",
      "11  {'location': {'lat': 23.7818743, 'lng': 90.415...     4.2   \n",
      "12  {'location': {'lat': 23.7389633, 'lng': 90.378...     4.3   \n",
      "13  {'location': {'lat': 23.7393506, 'lng': 90.381...     4.1   \n",
      "14  {'location': {'lat': 23.7475403, 'lng': 90.369...     4.5   \n",
      "15  {'location': {'lat': 23.7903658, 'lng': 90.406...     4.0   \n",
      "16  {'location': {'lat': 23.7935901, 'lng': 90.405...     4.2   \n",
      "17  {'location': {'lat': 23.7740277, 'lng': 90.396...     4.4   \n",
      "18  {'location': {'lat': 23.7919289, 'lng': 90.406...     4.3   \n",
      "19  {'location': {'lat': 23.7709045, 'lng': 90.404...     4.0   \n",
      "\n",
      "    user_ratings_total  price_level  \n",
      "0                  975          2.0  \n",
      "1                 1762          2.0  \n",
      "2                 1643          2.0  \n",
      "3                 1637          2.0  \n",
      "4                 1912          3.0  \n",
      "5                 2786          2.0  \n",
      "6                 3610          2.0  \n",
      "7                   11          NaN  \n",
      "8                 1483          NaN  \n",
      "9                  176          2.0  \n",
      "10               17010          2.0  \n",
      "11                 901          2.0  \n",
      "12                 186          NaN  \n",
      "13               21311          2.0  \n",
      "14                1116          3.0  \n",
      "15                1788          2.0  \n",
      "16                 712          NaN  \n",
      "17                  35          NaN  \n",
      "18                 336          NaN  \n",
      "19                 731          2.0  \n"
     ]
    }
   ],
   "source": [
    "print(df2)"
   ]
  }
 ],
 "metadata": {
  "kernelspec": {
   "display_name": "Python 3 (ipykernel)",
   "language": "python",
   "name": "python3"
  },
  "language_info": {
   "codemirror_mode": {
    "name": "ipython",
    "version": 3
   },
   "file_extension": ".py",
   "mimetype": "text/x-python",
   "name": "python",
   "nbconvert_exporter": "python",
   "pygments_lexer": "ipython3",
   "version": "3.10.0"
  }
 },
 "nbformat": 4,
 "nbformat_minor": 5
}
